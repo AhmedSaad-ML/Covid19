{
 "cells": [
  {
   "cell_type": "code",
   "execution_count": 1,
   "metadata": {},
   "outputs": [
    {
     "output_type": "execute_result",
     "data": {
      "text/plain": "       o   a   b   c   d   e   f   g\n0  23:24   5  18  28  38  16   1  33\n1  23:20  34   1  22  33  32  11  36\n2  23:16  19  14  26  20  29  12   8\n3  23:12  29   9   2  14  40   1  32\n4  23:08  24  38  15  35   3  12   6",
      "text/html": "<div>\n<style scoped>\n    .dataframe tbody tr th:only-of-type {\n        vertical-align: middle;\n    }\n\n    .dataframe tbody tr th {\n        vertical-align: top;\n    }\n\n    .dataframe thead th {\n        text-align: right;\n    }\n</style>\n<table border=\"1\" class=\"dataframe\">\n  <thead>\n    <tr style=\"text-align: right;\">\n      <th></th>\n      <th>o</th>\n      <th>a</th>\n      <th>b</th>\n      <th>c</th>\n      <th>d</th>\n      <th>e</th>\n      <th>f</th>\n      <th>g</th>\n    </tr>\n  </thead>\n  <tbody>\n    <tr>\n      <td>0</td>\n      <td>23:24</td>\n      <td>5</td>\n      <td>18</td>\n      <td>28</td>\n      <td>38</td>\n      <td>16</td>\n      <td>1</td>\n      <td>33</td>\n    </tr>\n    <tr>\n      <td>1</td>\n      <td>23:20</td>\n      <td>34</td>\n      <td>1</td>\n      <td>22</td>\n      <td>33</td>\n      <td>32</td>\n      <td>11</td>\n      <td>36</td>\n    </tr>\n    <tr>\n      <td>2</td>\n      <td>23:16</td>\n      <td>19</td>\n      <td>14</td>\n      <td>26</td>\n      <td>20</td>\n      <td>29</td>\n      <td>12</td>\n      <td>8</td>\n    </tr>\n    <tr>\n      <td>3</td>\n      <td>23:12</td>\n      <td>29</td>\n      <td>9</td>\n      <td>2</td>\n      <td>14</td>\n      <td>40</td>\n      <td>1</td>\n      <td>32</td>\n    </tr>\n    <tr>\n      <td>4</td>\n      <td>23:08</td>\n      <td>24</td>\n      <td>38</td>\n      <td>15</td>\n      <td>35</td>\n      <td>3</td>\n      <td>12</td>\n      <td>6</td>\n    </tr>\n  </tbody>\n</table>\n</div>"
     },
     "metadata": {},
     "execution_count": 1
    }
   ],
   "source": [
    "import time\n",
    "from selenium import webdriver\n",
    "import pandas as pd\n",
    "\n",
    "url=r\"/Users/ahmedsaad/Desktop/Data science/geckodriver\"\n",
    "driver=webdriver.Firefox(executable_path=url)\n",
    "driver.get(\"https://www.bet.co.za/bet-games/\")\n",
    "a=[]\n",
    "b=[]\n",
    "c=[]\n",
    "d=[]\n",
    "e=[]\n",
    "g=[]\n",
    "f=[]\n",
    "o=[]\n",
    "time.sleep(10)\n",
    "all_iframes = driver.find_elements_by_tag_name('iframe')\n",
    "driver.switch_to.frame(all_iframes[1])\n",
    "\n",
    "all_titles = driver.find_elements_by_css_selector('div.game-title')\n",
    "all_titles[6].click()\n",
    "time.sleep(1)\n",
    "\n",
    "all_samples = driver.find_elements_by_css_selector('div.game-result')\n",
    "dayTimeString=driver.find_elements_by_css_selector('div.last-results-item-time')\n",
    "\n",
    "\n",
    "for sample in all_samples:\n",
    "    all_balls = sample.find_elements_by_css_selector('span.ball-item')\n",
    "    all_text = [ball.text for ball in all_balls]\n",
    "    a.append( all_text[0])\n",
    "    b.append( all_text[1])\n",
    "    c.append( all_text[2])\n",
    "    d.append( all_text[3])\n",
    "    e.append( all_text[4])\n",
    "    f.append( all_text[5])\n",
    "    g.append( all_text[6])\n",
    "\n",
    "for i in dayTimeString:\n",
    "    o.append(i.text)\n",
    "    \n",
    "df=pd.DataFrame({'o':o,'a':a,'b':b,'c':c,'d':d,'e':e,'f':f,'g':g}) \n",
    "df.to_csv(\"project_no2.csv\",index=False)\n",
    "pd.read_csv(\"project_no2.csv\")"
   ]
  },
  {
   "cell_type": "code",
   "execution_count": 34,
   "metadata": {
    "tags": []
   },
   "outputs": [],
   "source": [
    "import time\n",
    "from selenium import webdriver\n",
    "import pandas as pd\n",
    "\n",
    "url=r\"/Users/ahmedsaad/Desktop/Data science/geckodriver\"\n",
    "driver=webdriver.Firefox(executable_path=url)\n",
    "driver.get(\"https://www.worldometers.info/coronavirus/\")\n",
    "a=[]\n",
    "b=[]\n",
    "c=[]\n",
    "d=[]\n",
    "e=[]\n",
    "f=[]\n",
    "g=[]\n",
    "h=[]\n",
    "ii=[]\n",
    "m=[]\n",
    "n=[]\n",
    "o=[]\n",
    "q=[]\n",
    "table=driver.find_element_by_id(\"main_table_countries_today\") \n",
    "table1=driver.find_element_by_xpath(\"//*[@id='main_table_countries_today']\")\n",
    "country_name=driver.find_elements_by_xpath('//*[@id=\"main_table_countries_today\"]/tbody[1]/tr/td[2]')\n",
    "total_case=driver.find_elements_by_xpath(\"//*[@id='main_table_countries_today']/tbody[1]/tr/td[3]\")\n",
    "new_cases=driver.find_elements_by_xpath(\"//*[@id='main_table_countries_today']/tbody[1]/tr/td[4]\")\n",
    "total_death=driver.find_elements_by_xpath(\"//*[@id='main_table_countries_today']/tbody[1]/tr/td[5]\")\n",
    "new_death=driver.find_elements_by_xpath(\"//*[@id='main_table_countries_today']/tbody[1]/tr/td[6]\")\n",
    "total_recovered=driver.find_elements_by_xpath(\"//*[@id='main_table_countries_today']/tbody[1]/tr/td[7]\")\n",
    "active_cases=driver.find_elements_by_xpath(\"//*[@id='main_table_countries_today']/tbody[1]/tr/td[8]\")\n",
    "serious_critical=driver.find_elements_by_xpath(\"//*[@id='main_table_countries_today']/tbody[1]/tr/td[9]\")\n",
    "tot_cases_1mpop=driver.find_elements_by_xpath(\"//*[@id='main_table_countries_today']/tbody[1]/tr/td[10]\")\n",
    "total_death_1mpop=driver.find_elements_by_xpath(\"//*[@id='main_table_countries_today']/tbody[1]/tr/td[11]\")\n",
    "total_tests=driver.find_elements_by_xpath(\"//*[@id='main_table_countries_today']/tbody[1]/tr/td[12]\")\n",
    "tests_1mpop=driver.find_elements_by_xpath(\"//*[@id='main_table_countries_today']/tbody[1]/tr/td[13]\")\n",
    "population=driver.find_elements_by_xpath(\"//*[@id='main_table_countries_today']/tbody[1]/tr/td[14]\")\n",
    "\n",
    "\n",
    "number=len(country_name)\n",
    "for i in range(number):\n",
    "    a.append(country_name[i].text)\n",
    "    b.append(total_case[i].text)\n",
    "    c.append(new_cases[i].text)\n",
    "    d.append(total_death[i].text)\n",
    "    e.append(new_death[i].text)\n",
    "    f.append(total_recovered[i].text)\n",
    "    g.append(active_cases[i].text)\n",
    "    h.append(serious_critical[i].text)\n",
    "    ii.append(tot_cases_1mpop[i].text)\n",
    "    m.append(total_death_1mpop[i].text)\n",
    "    n.append(total_tests[i].text)\n",
    "    o.append(tests_1mpop[i].text)\n",
    "    q.append(population[i].text)\n",
    "    \n",
    "\n",
    "\n",
    "scraped_data = pd.DataFrame({\"country_name\":a,\"total_case\":b,\"new_cases\":c,\"total_death\":d,\"new_death\":e,\"total_recovered\":f,\"active_cases\":g,\"serious_critical\":h,\"tot_cases_1mpop\":ii,\"total_death_1mpop\":m,\"total_tests\":n,\"tests_1mpop\":o,\"population\":q})\n",
    "\n"
   ]
  },
  {
   "cell_type": "code",
   "execution_count": 44,
   "metadata": {
    "tags": []
   },
   "outputs": [
    {
     "output_type": "stream",
     "name": "stdout",
     "text": "coronavirus cases:  20,022,265\nDeath:  733,971\nRecovered:  12,897,799\n"
    }
   ],
   "source": [
    "import time\n",
    "from selenium import webdriver\n",
    "import pandas as pd\n",
    "\n",
    "url=r\"/Users/ahmedsaad/Desktop/Data science/geckodriver\"\n",
    "driver=webdriver.Firefox(executable_path=url)\n",
    "driver.get(\"https://www.worldometers.info/coronavirus/\")\n",
    "coronavirus_cases=driver.find_element_by_xpath(\"//span[@style='color:#aaa']\")\n",
    "death=driver.find_element_by_xpath('//div[@class=\"maincounter-number\" and not(@style=\"color:#8ACA2B \")]/span[not(@style=\"color:#aaa\")]')\n",
    "recovered=driver.find_element_by_xpath(\"//div[@class='maincounter-number' and @style='color:#8ACA2B ']/span\")\n",
    "print(\"coronavirus cases: \",coronavirus_cases.text)\n",
    "print(\"Death: \",death.text)\n",
    "print(\"Recovered: \",recovered.text)\n"
   ]
  },
  {
   "cell_type": "code",
   "execution_count": 43,
   "metadata": {
    "tags": []
   },
   "outputs": [
    {
     "output_type": "stream",
     "name": "stdout",
     "text": "coronavirus cases:  20,022,265\nDeath:  733,971\nRecovered:  12,897,799\n"
    }
   ],
   "source": [
    "aw=driver.find_elements_by_xpath(\"//*[@id='maincounter-wrap']/div/span\")\n",
    "\n",
    "print(\"coronavirus cases: \",aw[0].text)\n",
    "print(\"Death: \",aw[1].text)\n",
    "print(\"Recovered: \",aw[2].text)\n",
    "    \n"
   ]
  },
  {
   "cell_type": "code",
   "execution_count": 37,
   "metadata": {},
   "outputs": [
    {
     "output_type": "execute_result",
     "data": {
      "text/plain": "               country_name  total_case new_cases total_death  new_death  \\\n0                     World  20,021,321    +4,776     733,918      311.0   \n1                       NaN         NaN       NaN         NaN        NaN   \n2                       USA   5,199,444       NaN     165,617        NaN   \n3                       NaN         NaN       NaN         NaN        NaN   \n4                       NaN         NaN       NaN         NaN        NaN   \n..                      ...         ...       ...         ...        ...   \n218          Western Sahara          10       NaN           1        NaN   \n219              MS Zaandam           9       NaN           2        NaN   \n220  British Virgin Islands           9       NaN           1        NaN   \n221   Saint Pierre Miquelon           4       NaN         NaN        NaN   \n222                Anguilla           3       NaN         NaN        NaN   \n\n    total_recovered active_cases serious_critical tot_cases_1mpop  \\\n0        12,896,895    6,390,508           64,666           2,569   \n1               NaN          NaN              NaN             NaN   \n2         2,664,701    2,369,126           17,812          15,698   \n3               NaN          NaN              NaN             NaN   \n4               NaN          NaN              NaN             NaN   \n..              ...          ...              ...             ...   \n218               8            1              NaN              17   \n219             NaN            7              NaN             NaN   \n220               7            1              NaN             297   \n221               1            3              NaN             691   \n222               3            0              NaN             200   \n\n    total_death_1mpop total_tests tests_1mpop   population  \n0                94.2         NaN         NaN          NaN  \n1                 NaN         NaN         NaN          NaN  \n2                 500  65,433,251     197,556  331,214,010  \n3                 NaN         NaN         NaN          NaN  \n4                 NaN         NaN         NaN          NaN  \n..                ...         ...         ...          ...  \n218                 2         NaN         NaN      598,803  \n219               NaN         NaN         NaN          NaN  \n220                33       1,522      50,309       30,253  \n221               NaN         NaN         NaN        5,791  \n222               NaN         537      35,759       15,017  \n\n[223 rows x 13 columns]",
      "text/html": "<div>\n<style scoped>\n    .dataframe tbody tr th:only-of-type {\n        vertical-align: middle;\n    }\n\n    .dataframe tbody tr th {\n        vertical-align: top;\n    }\n\n    .dataframe thead th {\n        text-align: right;\n    }\n</style>\n<table border=\"1\" class=\"dataframe\">\n  <thead>\n    <tr style=\"text-align: right;\">\n      <th></th>\n      <th>country_name</th>\n      <th>total_case</th>\n      <th>new_cases</th>\n      <th>total_death</th>\n      <th>new_death</th>\n      <th>total_recovered</th>\n      <th>active_cases</th>\n      <th>serious_critical</th>\n      <th>tot_cases_1mpop</th>\n      <th>total_death_1mpop</th>\n      <th>total_tests</th>\n      <th>tests_1mpop</th>\n      <th>population</th>\n    </tr>\n  </thead>\n  <tbody>\n    <tr>\n      <td>0</td>\n      <td>World</td>\n      <td>20,021,321</td>\n      <td>+4,776</td>\n      <td>733,918</td>\n      <td>311.0</td>\n      <td>12,896,895</td>\n      <td>6,390,508</td>\n      <td>64,666</td>\n      <td>2,569</td>\n      <td>94.2</td>\n      <td>NaN</td>\n      <td>NaN</td>\n      <td>NaN</td>\n    </tr>\n    <tr>\n      <td>1</td>\n      <td>NaN</td>\n      <td>NaN</td>\n      <td>NaN</td>\n      <td>NaN</td>\n      <td>NaN</td>\n      <td>NaN</td>\n      <td>NaN</td>\n      <td>NaN</td>\n      <td>NaN</td>\n      <td>NaN</td>\n      <td>NaN</td>\n      <td>NaN</td>\n      <td>NaN</td>\n    </tr>\n    <tr>\n      <td>2</td>\n      <td>USA</td>\n      <td>5,199,444</td>\n      <td>NaN</td>\n      <td>165,617</td>\n      <td>NaN</td>\n      <td>2,664,701</td>\n      <td>2,369,126</td>\n      <td>17,812</td>\n      <td>15,698</td>\n      <td>500</td>\n      <td>65,433,251</td>\n      <td>197,556</td>\n      <td>331,214,010</td>\n    </tr>\n    <tr>\n      <td>3</td>\n      <td>NaN</td>\n      <td>NaN</td>\n      <td>NaN</td>\n      <td>NaN</td>\n      <td>NaN</td>\n      <td>NaN</td>\n      <td>NaN</td>\n      <td>NaN</td>\n      <td>NaN</td>\n      <td>NaN</td>\n      <td>NaN</td>\n      <td>NaN</td>\n      <td>NaN</td>\n    </tr>\n    <tr>\n      <td>4</td>\n      <td>NaN</td>\n      <td>NaN</td>\n      <td>NaN</td>\n      <td>NaN</td>\n      <td>NaN</td>\n      <td>NaN</td>\n      <td>NaN</td>\n      <td>NaN</td>\n      <td>NaN</td>\n      <td>NaN</td>\n      <td>NaN</td>\n      <td>NaN</td>\n      <td>NaN</td>\n    </tr>\n    <tr>\n      <td>...</td>\n      <td>...</td>\n      <td>...</td>\n      <td>...</td>\n      <td>...</td>\n      <td>...</td>\n      <td>...</td>\n      <td>...</td>\n      <td>...</td>\n      <td>...</td>\n      <td>...</td>\n      <td>...</td>\n      <td>...</td>\n      <td>...</td>\n    </tr>\n    <tr>\n      <td>218</td>\n      <td>Western Sahara</td>\n      <td>10</td>\n      <td>NaN</td>\n      <td>1</td>\n      <td>NaN</td>\n      <td>8</td>\n      <td>1</td>\n      <td>NaN</td>\n      <td>17</td>\n      <td>2</td>\n      <td>NaN</td>\n      <td>NaN</td>\n      <td>598,803</td>\n    </tr>\n    <tr>\n      <td>219</td>\n      <td>MS Zaandam</td>\n      <td>9</td>\n      <td>NaN</td>\n      <td>2</td>\n      <td>NaN</td>\n      <td>NaN</td>\n      <td>7</td>\n      <td>NaN</td>\n      <td>NaN</td>\n      <td>NaN</td>\n      <td>NaN</td>\n      <td>NaN</td>\n      <td>NaN</td>\n    </tr>\n    <tr>\n      <td>220</td>\n      <td>British Virgin Islands</td>\n      <td>9</td>\n      <td>NaN</td>\n      <td>1</td>\n      <td>NaN</td>\n      <td>7</td>\n      <td>1</td>\n      <td>NaN</td>\n      <td>297</td>\n      <td>33</td>\n      <td>1,522</td>\n      <td>50,309</td>\n      <td>30,253</td>\n    </tr>\n    <tr>\n      <td>221</td>\n      <td>Saint Pierre Miquelon</td>\n      <td>4</td>\n      <td>NaN</td>\n      <td>NaN</td>\n      <td>NaN</td>\n      <td>1</td>\n      <td>3</td>\n      <td>NaN</td>\n      <td>691</td>\n      <td>NaN</td>\n      <td>NaN</td>\n      <td>NaN</td>\n      <td>5,791</td>\n    </tr>\n    <tr>\n      <td>222</td>\n      <td>Anguilla</td>\n      <td>3</td>\n      <td>NaN</td>\n      <td>NaN</td>\n      <td>NaN</td>\n      <td>3</td>\n      <td>0</td>\n      <td>NaN</td>\n      <td>200</td>\n      <td>NaN</td>\n      <td>537</td>\n      <td>35,759</td>\n      <td>15,017</td>\n    </tr>\n  </tbody>\n</table>\n<p>223 rows × 13 columns</p>\n</div>"
     },
     "metadata": {},
     "execution_count": 37
    }
   ],
   "source": [
    "scraped_data.to_csv(\"covid19.csv\",index=False)\n",
    "pd.read_csv(\"covid19.csv\")\n"
   ]
  },
  {
   "cell_type": "code",
   "execution_count": null,
   "metadata": {},
   "outputs": [],
   "source": []
  }
 ],
 "metadata": {
  "language_info": {
   "codemirror_mode": {
    "name": "ipython",
    "version": 3
   },
   "file_extension": ".py",
   "mimetype": "text/x-python",
   "name": "python",
   "nbconvert_exporter": "python",
   "pygments_lexer": "ipython3",
   "version": "3.7.3-final"
  },
  "orig_nbformat": 2,
  "kernelspec": {
   "name": "python3",
   "display_name": "Python 3"
  }
 },
 "nbformat": 4,
 "nbformat_minor": 2
}
